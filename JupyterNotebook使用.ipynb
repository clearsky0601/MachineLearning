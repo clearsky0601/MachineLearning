{
 "cells": [
  {
   "cell_type": "markdown",
   "id": "540cdb76",
   "metadata": {},
   "source": [
    "# Jupyter Notebook 使用 "
   ]
  },
  {
   "cell_type": "markdown",
   "id": "908d641e",
   "metadata": {},
   "source": [
    "Jupyter 笔记本有两种不同的键盘输入模式。 \n",
    "\n",
    "- 编辑模式允许您将代码或文本输入到一个单元格中，并通过一个绿色边框的单元格来表示 \n",
    "- 命令模式将键盘与笔记本级命令绑定在一起，并通过一个灰框、左边距蓝色的单元格显示"
   ]
  },
  {
   "cell_type": "markdown",
   "id": "160a657c",
   "metadata": {},
   "source": [
    "## 命令行模式（按 Esc 生效）"
   ]
  },
  {
   "cell_type": "code",
   "execution_count": null,
   "id": "aca0a974",
   "metadata": {},
   "outputs": [],
   "source": []
  }
 ],
 "metadata": {
  "kernelspec": {
   "display_name": "Python 3 (ipykernel)",
   "language": "python",
   "name": "python3"
  },
  "language_info": {
   "codemirror_mode": {
    "name": "ipython",
    "version": 3
   },
   "file_extension": ".py",
   "mimetype": "text/x-python",
   "name": "python",
   "nbconvert_exporter": "python",
   "pygments_lexer": "ipython3",
   "version": "3.7.6"
  }
 },
 "nbformat": 4,
 "nbformat_minor": 5
}
